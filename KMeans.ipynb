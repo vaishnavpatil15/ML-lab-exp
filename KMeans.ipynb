{
 "cells": [
  {
   "cell_type": "code",
   "execution_count": 2,
   "id": "8ca4027e-b7ec-4f32-8ed3-f6747ee71789",
   "metadata": {},
   "outputs": [
    {
     "name": "stdin",
     "output_type": "stream",
     "text": [
      "Enter number of datapoints:  10\n",
      "Enter 1:  4\n",
      "Enter 2:  5\n",
      "Enter 3:  6\n",
      "Enter 4:  8\n",
      "Enter 5:  12\n",
      "Enter 6:  43\n",
      "Enter 7:  15\n",
      "Enter 8:  62\n",
      "Enter 9:  23\n",
      "Enter 10:  52\n"
     ]
    },
    {
     "name": "stdout",
     "output_type": "stream",
     "text": [
      "Datapoints: [4, 5, 6, 8, 12, 43, 15, 62, 23, 52]\n",
      "Random 1: 5\n",
      "Random 2: 43\n",
      "Cluster 1: [4, 5, 6, 8, 12, 15, 23]\n",
      "Cluster 2: [43, 62, 52]\n"
     ]
    }
   ],
   "source": [
    "\n",
    "import numpy as np\n",
    "\n",
    "a = int(input(\"Enter number of datapoints: \"))\n",
    "\n",
    "l = []\n",
    "\n",
    "for i in range(a):\n",
    "    b = int(input(f\"Enter {i+1}: \"))\n",
    "    l.append(b)\n",
    "\n",
    "\n",
    "print(\"Datapoints:\", l)\n",
    "\n",
    "#  number of clusters 'k'\n",
    "K = 2\n",
    "\n",
    "# centroid1  randomly\n",
    "c1 = np.random.choice(l)\n",
    "print(\"Random 1:\", c1)\n",
    "\n",
    "# Initialize the second centroid to be different from the first\n",
    "c2 = np.random.choice(l)\n",
    "while c1 == c2:\n",
    "    c2 = np.random.choice(l)\n",
    "print(\"Random 2:\", c2)\n",
    "\n",
    "# Create empty lists to store the clusters\n",
    "clus1 = []\n",
    "clus2 = []\n",
    "\n",
    "# Assign each datapoint to the closest centroid\n",
    "for i in range(a):\n",
    "    # Calculate the distance to each centroid\n",
    "    d1 = abs(l[i] - c1)\n",
    "    d2 = abs(l[i] - c2)\n",
    "    \n",
    "    # Assign the datapoint to the closest centroid\n",
    "    if d1 < d2:\n",
    "        clus1.append(l[i])\n",
    "    else:\n",
    "        clus2.append(l[i])\n",
    "\n",
    "# Print the clusters\n",
    "print(\"Cluster 1:\", clus1)\n",
    "print(\"Cluster 2:\", clus2)"
   ]
  },
  {
   "cell_type": "code",
   "execution_count": null,
   "id": "fe084f12-abb4-4267-8a3f-8d90e61f12d7",
   "metadata": {},
   "outputs": [],
   "source": []
  }
 ],
 "metadata": {
  "kernelspec": {
   "display_name": "Python 3 (ipykernel)",
   "language": "python",
   "name": "python3"
  },
  "language_info": {
   "codemirror_mode": {
    "name": "ipython",
    "version": 3
   },
   "file_extension": ".py",
   "mimetype": "text/x-python",
   "name": "python",
   "nbconvert_exporter": "python",
   "pygments_lexer": "ipython3",
   "version": "3.12.4"
  }
 },
 "nbformat": 4,
 "nbformat_minor": 5
}
