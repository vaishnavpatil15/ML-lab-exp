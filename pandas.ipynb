{
 "cells": [
  {
   "cell_type": "code",
   "execution_count": 8,
   "metadata": {},
   "outputs": [
    {
     "name": "stdout",
     "output_type": "stream",
     "text": [
      "    NAME       PRN\n",
      "0     Om  22UIA047\n",
      "1  Aarav  22UAI046\n",
      "2  rushi  22UAI030\n",
      "\n",
      "NAME       rushi\n",
      "PRN     22UAI030\n",
      "Name: 2, dtype: object\n",
      "\n",
      "  NAME       PRN\n",
      "0   Om  22UIA047\n"
     ]
    }
   ],
   "source": [
    "# (1) DataFrame :\n",
    "import pandas as pd\n",
    "\n",
    "data={\n",
    "    'NAME':[\"Om\",\"Aarav\",\"rushi\"],\n",
    "    'PRN':[\"22UIA047\",\"22UAI046\",\"22UAI030\"]\n",
    "}\n",
    "\n",
    "name_prn = pd.DataFrame(data)\n",
    "print(name_prn)\n",
    "print()\n",
    "print(name_prn.loc[2]) #use the(loc) attribute to return one or more specified row(s)\n",
    "print()\n",
    "print(name_prn.loc[[0 ]])"
   ]
  },
  {
   "cell_type": "code",
   "execution_count": 131,
   "metadata": {},
   "outputs": [
    {
     "name": "stdout",
     "output_type": "stream",
     "text": [
      "1    1\n",
      "2    2\n",
      "3    3\n",
      "4    4\n",
      "5    5\n",
      "6    6\n",
      "dtype: int64\n",
      "6\n"
     ]
    }
   ],
   "source": [
    "#Series\n",
    "import pandas as pd\n",
    "data=[1,2,3,4,5,6]\n",
    "\n",
    "\n",
    "val=pd.Series(data,index=[1,2,3,4,5,6])\n",
    "print(val)\n",
    "print(val[6])"
   ]
  },
  {
   "cell_type": "code",
   "execution_count": 2,
   "metadata": {},
   "outputs": [
    {
     "name": "stdout",
     "output_type": "stream",
     "text": [
      "name    [24, 12, 45]\n",
      "city       [1, 2, 3]\n",
      "dtype: object\n"
     ]
    }
   ],
   "source": [
    "#Series\n",
    "\n",
    "import pandas as pd\n",
    "data={ \n",
    "        'name':[24,12,45],\n",
    "        'city':[1,2,3]  \n",
    "        }            #key and value\n",
    "name_age=pd.Series(data)\n",
    "print(name_age)"
   ]
  },
  {
   "cell_type": "code",
   "execution_count": 12,
   "metadata": {},
   "outputs": [
    {
     "name": "stdout",
     "output_type": "stream",
     "text": [
      "day1    420\n",
      "day2    380\n",
      "day3    390\n",
      "dtype: int64\n"
     ]
    }
   ],
   "source": [
    "#Series\n",
    "import pandas as pd\n",
    "calories = {\"day1\": 420, \"day2\": 380, \"day3\": 390}\n",
    "myvar = pd.Series(calories) #Note: The keys of the dictionary become the labels.\n",
    "print(myvar)\n"
   ]
  },
  {
   "cell_type": "code",
   "execution_count": 18,
   "metadata": {},
   "outputs": [
    {
     "name": "stdout",
     "output_type": "stream",
     "text": [
      "   Unnamed: 0  YearsExperience   Salary\n",
      "0           0              1.2  39344.0\n",
      "1           1              1.4  46206.0\n",
      "2           2              1.6  37732.0\n",
      "3           3              2.1  43526.0\n",
      "4           4              2.3  39892.0\n",
      "\n",
      "20\n"
     ]
    }
   ],
   "source": [
    "#Load the CSV into a DataFrame:\n",
    "import pandas as pd\n",
    "df =pd.read_csv(r'E:\\python\\Salary_dataset.csv')\n",
    "print(df.head(5)) # specific data\n",
    "# print(df.to_string()) # for print all data\n",
    "print()\n",
    "print(pd.options.display.max_columns) #check your system's maximum rows "
   ]
  },
  {
   "cell_type": "markdown",
   "metadata": {},
   "source": [
    "#Cleaning the data"
   ]
  },
  {
   "cell_type": "code",
   "execution_count": 2,
   "metadata": {},
   "outputs": [
    {
     "name": "stdout",
     "output_type": "stream",
     "text": [
      "   Country   Age   Salary Purchased\n",
      "0    India  44.0  72000.0        No\n",
      "1    Spain  27.0  48000.0       Yes\n",
      "2  Germany  30.0  54000.0        No\n",
      "3    Spain  38.0  61000.0        No\n",
      "5    India  35.0  58000.0       Yes\n"
     ]
    }
   ],
   "source": [
    "import pandas as pd\n",
    "\n",
    "data =pd.read_csv(r'D:\\5th sem\\ml\\2023\\2. Data Collection _ Preprocessing\\Data.csv')\n",
    "new_data = data.dropna() #for creating a new file of editred data\n",
    "# data.dropna(inplace = True) # in same file changes the this\n",
    "# print(data) # all data printed\n",
    "print(new_data.head()) # wherever blank is there row is removed"
   ]
  },
  {
   "cell_type": "code",
   "execution_count": 3,
   "metadata": {},
   "outputs": [
    {
     "name": "stdout",
     "output_type": "stream",
     "text": [
      "   Country   Age   Salary Purchased\n",
      "0    India  44.0  72000.0        No\n",
      "1    Spain  27.0  48000.0       Yes\n",
      "2  Germany  30.0  54000.0        No\n",
      "3    Spain  38.0  61000.0        No\n",
      "4  Germany  40.0    130.0       Yes\n",
      "5    India  35.0  58000.0       Yes\n",
      "6    Spain   NaN  52000.0        No\n",
      "7    India  48.0  79000.0       Yes\n",
      "8  Germany  50.0  83000.0        No\n",
      "9    India  37.0  67000.0       Yes\n"
     ]
    },
    {
     "name": "stderr",
     "output_type": "stream",
     "text": [
      "C:\\Users\\rushi\\AppData\\Local\\Temp\\ipykernel_21100\\2149068386.py:5: FutureWarning: A value is trying to be set on a copy of a DataFrame or Series through chained assignment using an inplace method.\n",
      "The behavior will change in pandas 3.0. This inplace method will never work because the intermediate object on which we are setting values always behaves as a copy.\n",
      "\n",
      "For example, when doing 'df[col].method(value, inplace=True)', try using 'df.method({col: value}, inplace=True)' or df[col] = df[col].method(value) instead, to perform the operation inplace on the original object.\n",
      "\n",
      "\n",
      "  data[\"Salary\"].fillna(130, inplace = True)#Replace Only For Specified Columns\n"
     ]
    }
   ],
   "source": [
    "import pandas as pd\n",
    "\n",
    "data =pd.read_csv(r'D:\\5th sem\\ml\\2023\\2. Data Collection _ Preprocessing\\Data.csv')\n",
    "# data.fillna(0000,inplace = True) #whereeveer null replace withb value\n",
    "data[\"Salary\"].fillna(130, inplace = True)#Replace Only For Specified Columns\n",
    "\n",
    "print(data.to_string())"
   ]
  },
  {
   "cell_type": "markdown",
   "metadata": {},
   "source": [
    "Replace Using Mean, Median, or Mode"
   ]
  },
  {
   "cell_type": "code",
   "execution_count": 5,
   "metadata": {},
   "outputs": [
    {
     "name": "stdout",
     "output_type": "stream",
     "text": [
      "   Country   Age   Salary Purchased\n",
      "0    India  44.0  72000.0        No\n",
      "1    Spain  27.0  48000.0       Yes\n",
      "2  Germany  30.0  54000.0        No\n",
      "3    Spain  38.0  61000.0        No\n",
      "4  Germany  40.0  61000.0       Yes\n",
      "5    India  35.0  58000.0       Yes\n",
      "6    Spain   NaN  52000.0        No\n",
      "7    India  48.0  79000.0       Yes\n",
      "8  Germany  50.0  83000.0        No\n",
      "9    India  37.0  67000.0       Yes\n"
     ]
    },
    {
     "name": "stderr",
     "output_type": "stream",
     "text": [
      "C:\\Users\\rushi\\AppData\\Local\\Temp\\ipykernel_21100\\2916216510.py:7: FutureWarning: A value is trying to be set on a copy of a DataFrame or Series through chained assignment using an inplace method.\n",
      "The behavior will change in pandas 3.0. This inplace method will never work because the intermediate object on which we are setting values always behaves as a copy.\n",
      "\n",
      "For example, when doing 'df[col].method(value, inplace=True)', try using 'df.method({col: value}, inplace=True)' or df[col] = df[col].method(value) instead, to perform the operation inplace on the original object.\n",
      "\n",
      "\n",
      "  data[\"Salary\"].fillna(x, inplace = True)#Replace Only For Specified Columns\n"
     ]
    }
   ],
   "source": [
    "import pandas as pd\n",
    "\n",
    "data =pd.read_csv(r'D:\\5th sem\\ml\\2023\\2. Data Collection _ Preprocessing\\Data.csv')\n",
    "# x= data[\"Salary\"].mean()  #mean\n",
    "# x= data[\"Salary\"].mode()[0] #mode\n",
    "x= data[\"Salary\"].median() #median\n",
    "data[\"Salary\"].fillna(x, inplace = True)#Replace Only For Specified Columns\n",
    "\n",
    "print(data.to_string())"
   ]
  },
  {
   "cell_type": "code",
   "execution_count": 47,
   "metadata": {},
   "outputs": [
    {
     "name": "stdout",
     "output_type": "stream",
     "text": [
      "    Unnamed: 0  YearsExperience    Salary\n",
      "0            0              1.2   39344.0\n",
      "1            1              1.4   46206.0\n",
      "2            2              1.6   37732.0\n",
      "3            3              2.1   43526.0\n",
      "4            4              2.3   39892.0\n",
      "5            5              3.0   56643.0\n",
      "6            6              3.1   60151.0\n",
      "7            7              3.3   54446.0\n",
      "8            8              3.3   64446.0\n",
      "9            9              3.8   57190.0\n",
      "10          10              4.0   63219.0\n",
      "11          11              4.1   55795.0\n",
      "12          12              4.1   56958.0\n",
      "13          13              4.2   57082.0\n",
      "14          14              4.6   61112.0\n",
      "15          15              5.0   67939.0\n",
      "16          16              5.2   66030.0\n",
      "17          17              5.4   83089.0\n",
      "18          18              6.0   81364.0\n",
      "19          19              6.1   93941.0\n",
      "20          20              6.9   91739.0\n",
      "21          21              7.2   98274.0\n",
      "22          22              8.0  101303.0\n",
      "23          23              8.3  113813.0\n",
      "24          24              8.8  109432.0\n",
      "25          25              9.1  105583.0\n",
      "26          26              9.6  116970.0\n",
      "27          27              9.7  112636.0\n",
      "28          28             10.4  122392.0\n",
      "29          29             10.6  121873.0\n"
     ]
    }
   ],
   "source": [
    "import pandas as pd\n",
    "\n",
    "data =pd.read_csv(r'E:\\python\\Salary_dataset.csv')\n",
    "df.drop_duplicates(inplace = True)\n",
    "# print(df.duplicated())\n",
    "\n",
    "print(df.to_string())"
   ]
  }
 ],
 "metadata": {
  "kernelspec": {
   "display_name": "Python 3",
   "language": "python",
   "name": "python3"
  },
  "language_info": {
   "codemirror_mode": {
    "name": "ipython",
    "version": 3
   },
   "file_extension": ".py",
   "mimetype": "text/x-python",
   "name": "python",
   "nbconvert_exporter": "python",
   "pygments_lexer": "ipython3",
   "version": "3.12.4"
  }
 },
 "nbformat": 4,
 "nbformat_minor": 2
}
